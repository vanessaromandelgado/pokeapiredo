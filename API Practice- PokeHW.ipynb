{
 "cells": [
  {
   "cell_type": "markdown",
   "id": "3e546b61",
   "metadata": {},
   "source": [
    "<p> Thurs HW Redo Part 1, imoprt r request with api end point, saving to list</p>\n",
    "#### Getting attributes from the api's end point following the nesting of lists and dics"
   ]
  },
  {
   "cell_type": "code",
   "execution_count": 51,
   "id": "667afc39",
   "metadata": {},
   "outputs": [
    {
     "name": "stdout",
     "output_type": "stream",
     "text": [
      "dict_keys(['abilities', 'base_experience', 'forms', 'game_indices', 'height', 'held_items', 'id', 'is_default', 'location_area_encounters', 'moves', 'name', 'order', 'past_types', 'species', 'sprites', 'stats', 'types', 'weight'])\n"
     ]
    }
   ],
   "source": [
    "#making an api call\n",
    "import requests as r\n",
    "req= r.get('https://pokeapi.co/api/v2/pokemon/pikachu')\n",
    "if req.status_code == 200:\n",
    "    data = req.json()\n",
    "print(data.keys()) #print statement just for checking"
   ]
  },
  {
   "cell_type": "code",
   "execution_count": 33,
   "id": "aff81a98",
   "metadata": {},
   "outputs": [
    {
     "name": "stdout",
     "output_type": "stream",
     "text": [
      "pikachu\n"
     ]
    }
   ],
   "source": [
    "#checking name is called on correct api endpoint\n",
    "name = data ['name']\n",
    "print(name)"
   ]
  },
  {
   "cell_type": "code",
   "execution_count": 52,
   "id": "d8fd5c62",
   "metadata": {},
   "outputs": [
    {
     "name": "stdout",
     "output_type": "stream",
     "text": [
      "60\n"
     ]
    }
   ],
   "source": [
    "#checking weight is called on correct api endpoint\n",
    "weight = data ['weight']\n",
    "print(weight)"
   ]
  },
  {
   "cell_type": "code",
   "execution_count": 53,
   "id": "d406db1f",
   "metadata": {},
   "outputs": [
    {
     "name": "stdout",
     "output_type": "stream",
     "text": [
      "lightning-rod\n"
     ]
    }
   ],
   "source": [
    "#working through api end point dictionary for abilities requires indexing into abilities dict?\n",
    "abilityname = data['abilities'][1]['ability']['name']\n",
    "print(abilityname)"
   ]
  },
  {
   "cell_type": "code",
   "execution_count": 39,
   "id": "30e4a0ef",
   "metadata": {},
   "outputs": [
    {
     "name": "stdout",
     "output_type": "stream",
     "text": [
      "['static', 'lightning-rod']\n"
     ]
    }
   ],
   "source": [
    "#appending each item in our list require a loop\n",
    "abilities = []\n",
    "for x in data['abilities']:\n",
    "    abilities.append(x['ability']['name'])\n",
    "print(abilities)"
   ]
  },
  {
   "cell_type": "code",
   "execution_count": 56,
   "id": "dcb44edb",
   "metadata": {},
   "outputs": [
    {
     "name": "stdout",
     "output_type": "stream",
     "text": [
      "electric\n",
      "['electric']\n"
     ]
    }
   ],
   "source": [
    "# getting type is similar to abilities\n",
    "typename = data ['types'][0]['type']['name']\n",
    "print(typename)\n",
    "types = [x['type']['name'] for x in data ['types']]\n",
    "print(types)"
   ]
  },
  {
   "cell_type": "code",
   "execution_count": null,
   "id": "77db1287",
   "metadata": {},
   "outputs": [],
   "source": []
  },
  {
   "cell_type": "code",
   "execution_count": null,
   "id": "00dcf8fb",
   "metadata": {},
   "outputs": [],
   "source": [
    "#structure for a single pokemon\n",
    "pokemon1 = {\n",
    "    'name': '',\n",
    "    'abilities': [],\n",
    "    'weight': '',\n",
    "    'types': []\n",
    "}"
   ]
  },
  {
   "cell_type": "code",
   "execution_count": 62,
   "id": "1450dc8d",
   "metadata": {},
   "outputs": [
    {
     "name": "stdout",
     "output_type": "stream",
     "text": [
      "{'name': 'pikachu', 'abilities': ['static', 'lightning-rod'], 'weight': 60, 'types': ['electric']}\n"
     ]
    }
   ],
   "source": [
    "#structure for a single pokemon\n",
    "pikachu = {\n",
    "    'name': name,\n",
    "    'abilities': abilities,\n",
    "    'weight': weight,\n",
    "    'types': types\n",
    "}\n",
    "print(togepi)"
   ]
  },
  {
   "cell_type": "code",
   "execution_count": 90,
   "id": "32e1aa69",
   "metadata": {},
   "outputs": [
    {
     "ename": "SyntaxError",
     "evalue": "invalid syntax (<ipython-input-90-f9cce7c4ddd6>, line 12)",
     "output_type": "error",
     "traceback": [
      "\u001b[0;36m  File \u001b[0;32m\"<ipython-input-90-f9cce7c4ddd6>\"\u001b[0;36m, line \u001b[0;32m12\u001b[0m\n\u001b[0;31m    'types': [x['type']['name'] for x in data['types']]\u001b[0m\n\u001b[0m    ^\u001b[0m\n\u001b[0;31mSyntaxError\u001b[0m\u001b[0;31m:\u001b[0m invalid syntax\n"
     ]
    }
   ],
   "source": [
    "#setting up the function\n",
    "def pokeAPIcall(pokemon):\n",
    "    import requests as r\n",
    "    req = r.get(f'https://pokeapi.co/api/v2/pokemon/{pokemon}')\n",
    "    if req.status_code == 200:\n",
    "        data = req.json()\n",
    "    else:\n",
    "        return req.status_code\n",
    "        \n",
    "    pokedict = {\n",
    "        'name': data['name']\n",
    "        'types': [x['type']['name'] for x in data['types']]\n",
    "        'abilities': [x['ability']['name'] for x in  data ['abilities']]\n",
    "        'weight': data['weight']\n",
    "    }\n",
    "    \n",
    "    return pokedict\n",
    "\n",
    "togepi = pokeAPIcall('togepi')\n",
    "\n",
    "\n",
    "### I scheduled some time with Alex @9:30am - 10:00am, Saturday, December 11, 2021 and\n",
    "### 11:30am - 12:00pm, Saturday, December 11, 2021"
   ]
  },
  {
   "cell_type": "code",
   "execution_count": null,
   "id": "4df81d1c",
   "metadata": {},
   "outputs": [],
   "source": []
  },
  {
   "cell_type": "code",
   "execution_count": null,
   "id": "c16127f6",
   "metadata": {},
   "outputs": [],
   "source": []
  }
 ],
 "metadata": {
  "interpreter": {
   "hash": "aee8b7b246df8f9039afb4144a1f6fd8d2ca17a180786b69acc140d282b71a49"
  },
  "kernelspec": {
   "display_name": "Python 3",
   "language": "python",
   "name": "python3"
  },
  "language_info": {
   "codemirror_mode": {
    "name": "ipython",
    "version": 3
   },
   "file_extension": ".py",
   "mimetype": "text/x-python",
   "name": "python",
   "nbconvert_exporter": "python",
   "pygments_lexer": "ipython3",
   "version": "3.8.8"
  }
 },
 "nbformat": 4,
 "nbformat_minor": 5
}
